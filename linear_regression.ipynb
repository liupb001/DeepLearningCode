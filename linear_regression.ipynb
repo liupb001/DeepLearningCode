{
 "cells": [
  {
   "cell_type": "code",
   "execution_count": 1,
   "metadata": {
    "collapsed": false
   },
   "outputs": [],
   "source": [
    "import numpy as np\n",
    "import matplotlib.pyplot as plt\n",
    "import tensorflow as tf\n",
    "\n",
    "%matplotlib inline"
   ]
  },
  {
   "cell_type": "code",
   "execution_count": 2,
   "metadata": {
    "collapsed": false
   },
   "outputs": [
    {
     "name": "stdout",
     "output_type": "stream",
     "text": [
      "i = 0, W = 0.5053775906562805, b = 1.6744669675827026\n",
      "i = 10, W = 3.3138108253479004, b = 7.296105861663818\n",
      "i = 20, W = 4.702357292175293, b = 7.899724960327148\n",
      "i = 30, W = 5.388882637023926, b = 7.964538097381592\n",
      "i = 40, W = 5.728315353393555, b = 7.971497535705566\n",
      "i = 50, W = 5.896137237548828, b = 7.972244739532471\n",
      "i = 60, W = 5.979111671447754, b = 7.972324371337891\n",
      "i = 70, W = 6.02013635635376, b = 7.9723334312438965\n",
      "i = 80, W = 6.040419101715088, b = 7.9723334312438965\n",
      "i = 90, W = 6.050447940826416, b = 7.9723334312438965\n",
      "i = 100, W = 6.055406093597412, b = 7.9723334312438965\n",
      "final result: W = 6.055406093597412, b = 7.9723334312438965\n"
     ]
    },
    {
     "data": {
      "image/png": "[encoded data removed]",
      "text/plain": [
       "<matplotlib.figure.Figure at 0x1df54cc8898>"
      ]
     },
     "metadata": {},
     "output_type": "display_data"
    }
   ],
   "source": [
    "# 1. generate some datas\n",
    "true_x = np.linspace(-1, 1, 100)\n",
    "true_y = 6 * true_x + 8 + np.random.randn(*true_x.shape) * 0.33\n",
    "\n",
    "# 2. define some necessary variable or placeholder\n",
    "x = tf.placeholder(tf.float32)\n",
    "y = tf.placeholder(tf.float32)\n",
    "\n",
    "W = tf.get_variable('weight', initializer=tf.constant(0.1))\n",
    "b = tf.get_variable('bias', initializer=tf.constant(0.1))\n",
    "\n",
    "# 3. linear regression model\n",
    "y_pred = tf.multiply(x, W) + b\n",
    "\n",
    "# 4. loss function\n",
    "loss = tf.square(y - y_pred)\n",
    "\n",
    "# 5. train operation\n",
    "train_op = tf.train.GradientDescentOptimizer(0.001).minimize(loss)\n",
    "\n",
    "# 6. Start session\n",
    "with tf.Session() as sess:\n",
    "    sess.run(tf.global_variables_initializer())\n",
    "\n",
    "    for i in range(101):\n",
    "        sess.run(train_op, feed_dict={x: true_x, y: true_y})\n",
    "\n",
    "        if i % 10 == 0:\n",
    "            print('i = {}, W = {}, b = {}'.\n",
    "                  format(i, sess.run(W), sess.run(b)))\n",
    "\n",
    "    print('final result: W = {}, b = {}'.format(sess.run(W), sess.run(b)))\n",
    "\n",
    "    plt.plot(true_x, true_y, 'ro', label=\"True Data\")\n",
    "    plt.plot(true_x, sess.run(W) * true_x + sess.run(b), 'g', label='Linear Regression')\n",
    "    plt.legend()\n",
    "    plt.show()"
   ]
  },
  {
   "cell_type": "code",
   "execution_count": null,
   "metadata": {
    "collapsed": true
   },
   "outputs": [],
   "source": []
  }
 ],
 "metadata": {
  "anaconda-cloud": {},
  "kernelspec": {
   "display_name": "Python [conda env:tensorflow]",
   "language": "python",
   "name": "conda-env-tensorflow-py"
  },
  "language_info": {
   "codemirror_mode": {
    "name": "ipython",
    "version": 3
   },
   "file_extension": ".py",
   "mimetype": "text/x-python",
   "name": "python",
   "nbconvert_exporter": "python",
   "pygments_lexer": "ipython3",
   "version": "3.5.2"
  }
 },
 "nbformat": 4,
 "nbformat_minor": 1
}
